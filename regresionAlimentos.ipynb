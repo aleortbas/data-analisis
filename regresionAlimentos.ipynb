{
 "cells": [
  {
   "cell_type": "code",
   "execution_count": 1,
   "metadata": {},
   "outputs": [],
   "source": [
    "import numpy as np\n",
    "import matplotlib.pyplot as plt\n",
    "import os\n",
    "from sklearn.model_selection import train_test_split\n",
    "from sklearn.linear_model import LinearRegression\n",
    "from sklearn.metrics import mean_squared_error\n",
    "import pandas as pd\n",
    "import seaborn as sns"
   ]
  },
  {
   "cell_type": "code",
   "execution_count": 243,
   "metadata": {},
   "outputs": [],
   "source": [
    "dataset=\"Alimentos.csv\"\n",
    "dataf= pd.read_csv(dataset)\n",
    "data= dataf.values\n",
    "x=data[:,:-1]\n",
    "y=data[:,-1]"
   ]
  },
  {
   "cell_type": "code",
   "execution_count": 244,
   "metadata": {},
   "outputs": [
    {
     "data": {
      "text/html": [
       "<div>\n",
       "<style scoped>\n",
       "    .dataframe tbody tr th:only-of-type {\n",
       "        vertical-align: middle;\n",
       "    }\n",
       "\n",
       "    .dataframe tbody tr th {\n",
       "        vertical-align: top;\n",
       "    }\n",
       "\n",
       "    .dataframe thead th {\n",
       "        text-align: right;\n",
       "    }\n",
       "</style>\n",
       "<table border=\"1\" class=\"dataframe\">\n",
       "  <thead>\n",
       "    <tr style=\"text-align: right;\">\n",
       "      <th></th>\n",
       "      <th>Agua_(g)</th>\n",
       "      <th>Proteina_(g)</th>\n",
       "      <th>Lipidos_Tot_(g)</th>\n",
       "      <th>Carbohitrado_(g)</th>\n",
       "      <th>Fibra_TD_(g)</th>\n",
       "      <th>Azucar_Tot_(g)</th>\n",
       "      <th>Calcio_(mg)</th>\n",
       "      <th>Hierro_(mg)</th>\n",
       "      <th>Magnesio_(mg)</th>\n",
       "      <th>Fosforo_(mg)</th>\n",
       "      <th>Potasio_(mg)</th>\n",
       "      <th>Energ_Kcal</th>\n",
       "      <th>Tasa_obesidad</th>\n",
       "    </tr>\n",
       "  </thead>\n",
       "  <tbody>\n",
       "    <tr>\n",
       "      <th>0</th>\n",
       "      <td>81.24</td>\n",
       "      <td>10.45</td>\n",
       "      <td>2.27</td>\n",
       "      <td>4.76</td>\n",
       "      <td>0.0</td>\n",
       "      <td>4.00</td>\n",
       "      <td>111</td>\n",
       "      <td>0.13</td>\n",
       "      <td>9</td>\n",
       "      <td>150</td>\n",
       "      <td>125</td>\n",
       "      <td>81</td>\n",
       "      <td>9</td>\n",
       "    </tr>\n",
       "    <tr>\n",
       "      <th>1</th>\n",
       "      <td>82.48</td>\n",
       "      <td>12.39</td>\n",
       "      <td>1.02</td>\n",
       "      <td>2.72</td>\n",
       "      <td>0.0</td>\n",
       "      <td>2.72</td>\n",
       "      <td>61</td>\n",
       "      <td>0.14</td>\n",
       "      <td>5</td>\n",
       "      <td>134</td>\n",
       "      <td>86</td>\n",
       "      <td>72</td>\n",
       "      <td>9</td>\n",
       "    </tr>\n",
       "    <tr>\n",
       "      <th>2</th>\n",
       "      <td>50.01</td>\n",
       "      <td>22.17</td>\n",
       "      <td>22.35</td>\n",
       "      <td>2.19</td>\n",
       "      <td>0.0</td>\n",
       "      <td>1.03</td>\n",
       "      <td>505</td>\n",
       "      <td>0.44</td>\n",
       "      <td>20</td>\n",
       "      <td>354</td>\n",
       "      <td>76</td>\n",
       "      <td>300</td>\n",
       "      <td>3</td>\n",
       "    </tr>\n",
       "    <tr>\n",
       "      <th>3</th>\n",
       "      <td>48.38</td>\n",
       "      <td>21.60</td>\n",
       "      <td>24.64</td>\n",
       "      <td>2.47</td>\n",
       "      <td>0.0</td>\n",
       "      <td>1.01</td>\n",
       "      <td>575</td>\n",
       "      <td>0.20</td>\n",
       "      <td>21</td>\n",
       "      <td>412</td>\n",
       "      <td>75</td>\n",
       "      <td>318</td>\n",
       "      <td>2</td>\n",
       "    </tr>\n",
       "    <tr>\n",
       "      <th>4</th>\n",
       "      <td>53.78</td>\n",
       "      <td>24.26</td>\n",
       "      <td>15.92</td>\n",
       "      <td>2.77</td>\n",
       "      <td>0.0</td>\n",
       "      <td>1.13</td>\n",
       "      <td>782</td>\n",
       "      <td>0.22</td>\n",
       "      <td>23</td>\n",
       "      <td>463</td>\n",
       "      <td>84</td>\n",
       "      <td>254</td>\n",
       "      <td>2</td>\n",
       "    </tr>\n",
       "    <tr>\n",
       "      <th>5</th>\n",
       "      <td>71.70</td>\n",
       "      <td>11.26</td>\n",
       "      <td>12.98</td>\n",
       "      <td>3.04</td>\n",
       "      <td>0.0</td>\n",
       "      <td>0.27</td>\n",
       "      <td>207</td>\n",
       "      <td>0.38</td>\n",
       "      <td>11</td>\n",
       "      <td>158</td>\n",
       "      <td>105</td>\n",
       "      <td>174</td>\n",
       "      <td>2</td>\n",
       "    </tr>\n",
       "    <tr>\n",
       "      <th>6</th>\n",
       "      <td>74.41</td>\n",
       "      <td>11.39</td>\n",
       "      <td>7.91</td>\n",
       "      <td>5.14</td>\n",
       "      <td>0.0</td>\n",
       "      <td>0.31</td>\n",
       "      <td>272</td>\n",
       "      <td>0.44</td>\n",
       "      <td>15</td>\n",
       "      <td>183</td>\n",
       "      <td>125</td>\n",
       "      <td>138</td>\n",
       "      <td>8</td>\n",
       "    </tr>\n",
       "    <tr>\n",
       "      <th>7</th>\n",
       "      <td>87.67</td>\n",
       "      <td>3.33</td>\n",
       "      <td>3.46</td>\n",
       "      <td>4.74</td>\n",
       "      <td>0.0</td>\n",
       "      <td>0.31</td>\n",
       "      <td>128</td>\n",
       "      <td>0.05</td>\n",
       "      <td>13</td>\n",
       "      <td>97</td>\n",
       "      <td>139</td>\n",
       "      <td>63</td>\n",
       "      <td>10</td>\n",
       "    </tr>\n",
       "    <tr>\n",
       "      <th>8</th>\n",
       "      <td>87.73</td>\n",
       "      <td>3.33</td>\n",
       "      <td>3.40</td>\n",
       "      <td>4.74</td>\n",
       "      <td>0.0</td>\n",
       "      <td>4.74</td>\n",
       "      <td>128</td>\n",
       "      <td>0.05</td>\n",
       "      <td>13</td>\n",
       "      <td>97</td>\n",
       "      <td>139</td>\n",
       "      <td>63</td>\n",
       "      <td>2</td>\n",
       "    </tr>\n",
       "    <tr>\n",
       "      <th>9</th>\n",
       "      <td>65.74</td>\n",
       "      <td>3.61</td>\n",
       "      <td>12.72</td>\n",
       "      <td>17.13</td>\n",
       "      <td>0.0</td>\n",
       "      <td>17.13</td>\n",
       "      <td>90</td>\n",
       "      <td>0.04</td>\n",
       "      <td>10</td>\n",
       "      <td>86</td>\n",
       "      <td>151</td>\n",
       "      <td>194</td>\n",
       "      <td>7</td>\n",
       "    </tr>\n",
       "  </tbody>\n",
       "</table>\n",
       "</div>"
      ],
      "text/plain": [
       "   Agua_(g)  Proteina_(g)  Lipidos_Tot_(g)  Carbohitrado_(g)  Fibra_TD_(g)  \\\n",
       "0     81.24         10.45             2.27              4.76           0.0   \n",
       "1     82.48         12.39             1.02              2.72           0.0   \n",
       "2     50.01         22.17            22.35              2.19           0.0   \n",
       "3     48.38         21.60            24.64              2.47           0.0   \n",
       "4     53.78         24.26            15.92              2.77           0.0   \n",
       "5     71.70         11.26            12.98              3.04           0.0   \n",
       "6     74.41         11.39             7.91              5.14           0.0   \n",
       "7     87.67          3.33             3.46              4.74           0.0   \n",
       "8     87.73          3.33             3.40              4.74           0.0   \n",
       "9     65.74          3.61            12.72             17.13           0.0   \n",
       "\n",
       "   Azucar_Tot_(g)  Calcio_(mg)  Hierro_(mg)  Magnesio_(mg)  Fosforo_(mg)  \\\n",
       "0            4.00          111         0.13              9           150   \n",
       "1            2.72           61         0.14              5           134   \n",
       "2            1.03          505         0.44             20           354   \n",
       "3            1.01          575         0.20             21           412   \n",
       "4            1.13          782         0.22             23           463   \n",
       "5            0.27          207         0.38             11           158   \n",
       "6            0.31          272         0.44             15           183   \n",
       "7            0.31          128         0.05             13            97   \n",
       "8            4.74          128         0.05             13            97   \n",
       "9           17.13           90         0.04             10            86   \n",
       "\n",
       "   Potasio_(mg)  Energ_Kcal  Tasa_obesidad  \n",
       "0           125          81              9  \n",
       "1            86          72              9  \n",
       "2            76         300              3  \n",
       "3            75         318              2  \n",
       "4            84         254              2  \n",
       "5           105         174              2  \n",
       "6           125         138              8  \n",
       "7           139          63             10  \n",
       "8           139          63              2  \n",
       "9           151         194              7  "
      ]
     },
     "execution_count": 244,
     "metadata": {},
     "output_type": "execute_result"
    }
   ],
   "source": [
    "dataf.head(10)\n",
    "#sns.regplot(x=\"Proteina_(g)\", y=\"Energ_Kcal\", data=dataf)"
   ]
  },
  {
   "cell_type": "code",
   "execution_count": 245,
   "metadata": {},
   "outputs": [
    {
     "name": "stdout",
     "output_type": "stream",
     "text": [
      "El dataset tiene 508 registros, de 12 dimensiones\n"
     ]
    },
    {
     "data": {
      "text/plain": [
       "array([[<AxesSubplot:title={'center':'Agua_(g)'}>,\n",
       "        <AxesSubplot:title={'center':'Proteina_(g)'}>,\n",
       "        <AxesSubplot:title={'center':'Lipidos_Tot_(g)'}>,\n",
       "        <AxesSubplot:title={'center':'Carbohitrado_(g)'}>],\n",
       "       [<AxesSubplot:title={'center':'Fibra_TD_(g)'}>,\n",
       "        <AxesSubplot:title={'center':'Azucar_Tot_(g)'}>,\n",
       "        <AxesSubplot:title={'center':'Calcio_(mg)'}>,\n",
       "        <AxesSubplot:title={'center':'Hierro_(mg)'}>],\n",
       "       [<AxesSubplot:title={'center':'Magnesio_(mg)'}>,\n",
       "        <AxesSubplot:title={'center':'Fosforo_(mg)'}>,\n",
       "        <AxesSubplot:title={'center':'Potasio_(mg)'}>,\n",
       "        <AxesSubplot:title={'center':'Energ_Kcal'}>],\n",
       "       [<AxesSubplot:title={'center':'Tasa_obesidad'}>, <AxesSubplot:>,\n",
       "        <AxesSubplot:>, <AxesSubplot:>]], dtype=object)"
      ]
     },
     "execution_count": 245,
     "metadata": {},
     "output_type": "execute_result"
    },
    {
     "data": {
      "image/png": "[encoded data removed]",
      "text/plain": [
       "<Figure size 432x288 with 16 Axes>"
      ]
     },
     "metadata": {
      "needs_background": "light"
     },
     "output_type": "display_data"
    }
   ],
   "source": [
    "n,d=x.shape\n",
    "print(\"El dataset tiene %d registros, de %d dimensiones\" %(n, d))\n",
    "# visualizar distribución de los datos\n",
    "dataf.hist(bins=20)"
   ]
  },
  {
   "cell_type": "code",
   "execution_count": 246,
   "metadata": {},
   "outputs": [
    {
     "name": "stdout",
     "output_type": "stream",
     "text": [
      "\t 406 datos para training\n",
      "\t 102 datos para testing\n"
     ]
    }
   ],
   "source": [
    "porc_test= 0.2\n",
    "x_train, x_test, y_train, y_test = train_test_split(x, y, test_size= porc_test)\n",
    "print(\"\\t %d datos para training\" %x_train.shape[0])\n",
    "print(\"\\t %d datos para testing\" %x_test.shape[0])"
   ]
  },
  {
   "cell_type": "code",
   "execution_count": 247,
   "metadata": {},
   "outputs": [
    {
     "name": "stdout",
     "output_type": "stream",
     "text": [
      "Error en training: 9.5446931149229\n",
      "Error en testing: 9.86529218296844\n"
     ]
    }
   ],
   "source": [
    "#%% Entrenar modelo de Regresión Lineal\n",
    "\n",
    "# Creación del objeto modelo\n",
    "modelo= LinearRegression()\n",
    "\n",
    "# Entrenar el modelo.\n",
    "modelo.fit(x_train, y_train)\n",
    "\n",
    "# Realizar predicción\n",
    "y_train_predict= modelo.predict(x_train) # Con los datos de entrenamiento.\n",
    "y_test_predict= modelo.predict(x_test)  # Con los datos de prueba.\n",
    "\n",
    "# Evaluar los scores\n",
    "error_train= mean_squared_error(y_train_predict, y_train)\n",
    "print(\"Error en training: %s\" % error_train)\n",
    "error_test= mean_squared_error(y_test_predict, y_test)\n",
    "print(\"Error en testing: %s\" % error_test)\n"
   ]
  },
  {
   "cell_type": "code",
   "execution_count": 248,
   "metadata": {},
   "outputs": [
    {
     "name": "stdout",
     "output_type": "stream",
     "text": [
      "\n",
      "Nuevo dato:\n",
      "El modelo predice: 5.128061 \n",
      "El valor real es: 7.000000\n"
     ]
    }
   ],
   "source": [
    "#%% Evaluar con datos de Testing\n",
    "nuevo= 25\n",
    "x_nuevo=x_test[nuevo, :] # Tomamos uno de los datos.\n",
    "#print(x_nuevo) # Lo miramos.\n",
    "y_real= y_test[nuevo] # Tomamos la anotación real.\n",
    "y_predict= modelo.predict(x_nuevo.reshape(1, -1)) # Le preguntamos al modelo su predicción.\n",
    "\n",
    "# Comparamos.\n",
    "print(\"\\nNuevo dato:\\nEl modelo predice: %f \" % (y_predict) )\n",
    "print(\"El valor real es: %f\" % (y_real))"
   ]
  }
 ],
 "metadata": {
  "kernelspec": {
   "display_name": "Python 3.10.2 64-bit",
   "language": "python",
   "name": "python3"
  },
  "language_info": {
   "codemirror_mode": {
    "name": "ipython",
    "version": 3
   },
   "file_extension": ".py",
   "mimetype": "text/x-python",
   "name": "python",
   "nbconvert_exporter": "python",
   "pygments_lexer": "ipython3",
   "version": "3.10.2"
  },
  "orig_nbformat": 4,
  "vscode": {
   "interpreter": {
    "hash": "afb734500600fd355917ca529030176ea0ca205570884b88f2f6f7d791fd3fbe"
   }
  }
 },
 "nbformat": 4,
 "nbformat_minor": 2
}
